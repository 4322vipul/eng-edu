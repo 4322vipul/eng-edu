{
 "cells": [
  {
   "cell_type": "markdown",
   "metadata": {
    "colab_type": "text",
    "id": "rFpcvnCJ4Xkf"
   },
   "source": [
    "# TensorFlow Programming Concepts: Solutions"
   ]
  },
  {
   "cell_type": "code",
   "execution_count": null,
   "metadata": {
    "collapsed": true
   },
   "outputs": [],
   "source": [
    "import tensorflow as tf"
   ]
  },
  {
   "cell_type": "markdown",
   "metadata": {
    "colab_type": "text",
    "id": "NzKsjX-ufyVY"
   },
   "source": [
    "## Solution to Exercise: Introduce a third operand to the code block"
   ]
  },
  {
   "cell_type": "markdown",
   "metadata": {
    "colab_type": "text",
    "id": "7mSz5GVqggZy"
   },
   "source": [
    "More specifically, do the following:\n",
    "\n",
    "  1. Introduce a third scalar integer operand to the preceding code block.\n",
    "  2. Add that third operand to `sum`, which yields a new sum.\n",
    "  3. Re-run the modified code block. (No need to rerun the other code blocks.)\n",
    "     Did the program generate the correct grand total?"
   ]
  },
  {
   "cell_type": "code",
   "execution_count": null,
   "metadata": {
    "cellView": "form",
    "codeCollapsed": false,
    "colab": {
     "autoexec": {
      "startup": false,
      "wait_interval": 0
     }
    },
    "colab_type": "code",
    "collapsed": false,
    "hiddenCell": false,
    "id": "79JEGIF5gsOK"
   },
   "outputs": [],
   "source": [
    "# Create a graph.\n",
    "g = tf.Graph()\n",
    "\n",
    "# Establish our graph as the \"default\" graph.\n",
    "with g.as_default():\n",
    "  # Assemble a graph consisting of three operations. \n",
    "  # (Creating a tensor is an operation.)\n",
    "  x = tf.constant(8, name=\"x_const\")\n",
    "  y = tf.constant(5, name=\"y_const\")\n",
    "  my_sum = tf.add(x, y, name=\"x_y_sum\")\n",
    "  \n",
    "  # Task 1: Introduce a third scalar integer operand.\n",
    "  #   * Introduce a third scalar integer operand to the preceding code block.\n",
    "  #   * Add that third operand to `my_sum`, which will yield a new sum.\n",
    "  #   * Re-run this code block.\n",
    "  z = tf.constant(4, name=\"z_const\")\n",
    "  new_sum = tf.add(my_sum, z, name=\"x_y_z_sum\")\n",
    "\n",
    "  # Now create a session.\n",
    "  # The session will run the default graph.\n",
    "  with tf.Session() as sess:\n",
    "    # Task: Ensure the program yields the correct grand total.\n",
    "    print new_sum.eval()"
   ]
  }
 ],
 "metadata": {
  "colab": {
   "default_view": {},
   "name": "tensorflow_programming_concepts.ipynb",
   "version": "0.3.2",
   "views": {}
  },
  "kernelspec": {
   "display_name": "Python 2",
   "language": "python",
   "name": "python2"
  },
  "language_info": {
   "codemirror_mode": {
    "name": "ipython",
    "version": 2
   },
   "file_extension": ".py",
   "mimetype": "text/x-python",
   "name": "python",
   "nbconvert_exporter": "python",
   "pygments_lexer": "ipython2",
   "version": "2.7.9"
  }
 },
 "nbformat": 4,
 "nbformat_minor": 0
}
