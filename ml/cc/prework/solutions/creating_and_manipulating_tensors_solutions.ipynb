{
 "cells": [
  {
   "cell_type": "markdown",
   "metadata": {
    "colab_type": "text",
    "id": "P0bQXjp499sl"
   },
   "source": [
    "# Creating and Manipulating Tensors: Solutions"
   ]
  },
  {
   "cell_type": "code",
   "execution_count": null,
   "metadata": {
    "cellView": null,
    "colab": {
     "autoexec": {
      "startup": false,
      "wait_interval": 0
     }
    },
    "colab_type": "code",
    "collapsed": true,
    "id": "85evKRsOIC5a"
   },
   "outputs": [],
   "source": [
    "import tensorflow as tf"
   ]
  },
  {
   "cell_type": "markdown",
   "metadata": {
    "colab_type": "text",
    "id": "CrpowaWo-VLq"
   },
   "source": [
    "## Solution to Exercise #1: Reshape two tensors"
   ]
  },
  {
   "cell_type": "markdown",
   "metadata": {},
   "source": [
    "The following two vectors are incompatible for matrix multiplication:\n",
    "\n",
    "  *  `a = tf.constant([5, 3, 2, 7, 1, 4])`\n",
    "  *  `b = tf.constant([4, 6, 3])`\n",
    "\n",
    "Reshape these vectors into compatible operands for matrix multiplication.\n",
    "Then, invoke a matrix multiplication operation on the reshaped tensors."
   ]
  },
  {
   "cell_type": "code",
   "execution_count": null,
   "metadata": {
    "cellView": "form",
    "codeCollapsed": false,
    "colab": {
     "autoexec": {
      "startup": false,
      "wait_interval": 0
     }
    },
    "colab_type": "code",
    "collapsed": false,
    "hiddenCell": false,
    "id": "o51TjSNN-e3a"
   },
   "outputs": [],
   "source": [
    "with tf.Graph().as_default(), tf.Session() as sess:\n",
    "  # Task 1: Reshape two tensors in order to multiply them\n",
    "  \n",
    "  # Here are the original operands, which are incompatible\n",
    "  # for matrix multiplication:\n",
    "  a = tf.constant([5, 3, 2, 7, 1, 4])\n",
    "  b = tf.constant([4, 6, 3])\n",
    "  # We need to reshape at least one of these operands so that\n",
    "  # the number of columns in the first operand equals the number\n",
    "  # of rows in the second operand.\n",
    "\n",
    "  # Reshape vector \"a\" into a 2-D 2x3 matrix:\n",
    "  reshaped_a = tf.reshape(a, [2,3])\n",
    "\n",
    "  # Reshape vector \"b\" into a 2-D 3x1 matrix:\n",
    "  reshaped_b = tf.reshape(b, [3,1])\n",
    "\n",
    "  # The number of columns in the first matrix now equals\n",
    "  # the number of rows in the second matrix. Therefore, you\n",
    "  # can matrix mutiply the two operands.\n",
    "  c = tf.matmul(reshaped_a, reshaped_b)\n",
    "  print(c.eval())\n",
    "\n",
    "  # An alternate approach: [6,1] x [1, 3] -> [6,3]"
   ]
  },
  {
   "cell_type": "markdown",
   "metadata": {},
   "source": [
    "## Solution to Exercise #2: Simulate 10 throws of two dice\n",
    "\n",
    "Create a dice simulation, ending up with a `10x3` 2-D tensor in which:\n",
    "\n",
    "  * Columns `1` and `2` each hold one throw of one dice.\n",
    "  * Column `3` holds the sum of the two throws on the same row."
   ]
  },
  {
   "cell_type": "code",
   "execution_count": null,
   "metadata": {
    "cellView": "code",
    "codeCollapsed": false,
    "colab": {
     "autoexec": {
      "startup": false,
      "wait_interval": 0
     }
    },
    "colab_type": "code",
    "collapsed": false,
    "hiddenCell": false,
    "id": "4v77nQ-g-p30"
   },
   "outputs": [],
   "source": [
    "with tf.Graph().as_default(), tf.Session() as sess:\n",
    "  # Task 2: Simulate 10 throws of two dice. Store the results\n",
    "  # in a 10x3 matrix.\n",
    "\n",
    "  # We're going to place dice throws inside two separate\n",
    "  # 10x1 matrices. We could have placed dice throws inside\n",
    "  # a single 10x2 matrix, but adding different columns of\n",
    "  # the same matrix is tricky. We also could have placed\n",
    "  # dice throws inside two 1-D tensors (vectors); doing so\n",
    "  # requires transposing the result.\n",
    "  dice1 = tf.Variable(tf.random_uniform([10, 1],\n",
    "                                        minval=1, maxval=7,\n",
    "                                        dtype=tf.int32))\n",
    "  dice2 = tf.Variable(tf.random_uniform([10, 1],\n",
    "                                        minval=1, maxval=7,\n",
    "                                        dtype=tf.int32))\n",
    "\n",
    "  # We may add dice1 and dice2 since they share the same shape\n",
    "  # and size.\n",
    "  dice_sum = tf.add(dice1, dice2)\n",
    "\n",
    "  # We've got three separate 10x1 matrices. To produce a single\n",
    "  # 10x3 matrix, we'll concatenate them along dimension 1.\n",
    "  resulting_matrix = tf.concat(\n",
    "      values=[dice1, dice2, dice_sum], axis=1)\n",
    "\n",
    "  # The variables haven't been initialized within the graph yet,\n",
    "  # so let's remedy that.\n",
    "  sess.run(tf.global_variables_initializer())\n",
    "\n",
    "  print(resulting_matrix.eval())"
   ]
  }
 ],
 "metadata": {
  "colab": {
   "default_view": {},
   "name": "creating_and_manipulating_tensors.ipynb",
   "version": "0.3.2",
   "views": {}
  },
  "kernelspec": {
   "display_name": "Python 2",
   "language": "python",
   "name": "python2"
  },
  "language_info": {
   "codemirror_mode": {
    "name": "ipython",
    "version": 2
   },
   "file_extension": ".py",
   "mimetype": "text/x-python",
   "name": "python",
   "nbconvert_exporter": "python",
   "pygments_lexer": "ipython2",
   "version": "2.7.9"
  }
 },
 "nbformat": 4,
 "nbformat_minor": 0
}
