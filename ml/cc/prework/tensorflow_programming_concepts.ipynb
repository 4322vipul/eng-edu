{
 "cells": [
  {
   "cell_type": "markdown",
   "metadata": {
    "colab_type": "text",
    "id": "rFpcvnCJ4Xkf"
   },
   "source": [
    "# TensorFlow Programming Concepts\n",
    "\n",
    "This Datalab introduces the TensorFlow programming model, focusing on the following concepts:\n",
    "\n",
    "  * tensors\n",
    "  * operations\n",
    "  * graphs\n",
    "  * sessions\n",
    "\n",
    "The TensorFlow programming model is probably different from others that you have encountered, so please don't bypass this seemingly pedestrian Datalab."
   ]
  },
  {
   "cell_type": "markdown",
   "metadata": {
    "colab_type": "text",
    "id": "NzKsjX-ufyVY"
   },
   "source": [
    "## Overview of Concepts\n",
    "\n",
    "TensorFlow gets its name from **tensors**, which are arrays of arbitrary dimensionality. Using TensorFlow, you can work with tensors having a very high number of dimensions. That said, much of your work will likely take place in the following more mundane dimensions:\n",
    "\n",
    "  * A **scalar** is a 0-d array (a 0th-order tensor).  For example, `\"Howdy\"` or `5`\n",
    "  * A **vector** is a 1-d array (a 1st-order tensor).  For example, `[2, 3, 5, 7, 11]` or `[5]`\n",
    "  * A **matrix** is a 2-d array (a 2nd-order tensor).  For example, `[[3.1, 8.2, 5.9][4.3, -2.7, 6.5]]`\n",
    "\n",
    "TensorFlow **operations** create, destroy, and manipulate tensors.  Most of the lines of code in a typical TensorFlow program are operations.\n",
    "\n",
    "A TensorFlow **graph** (also known as a **computational graph** or a **dataflow graph**) is, yes, a graph data structure.  Many TensorFlow programs consist of a single graph, but TensorFlow programs may optionally create multiple graphs. A graph's nodes are operations; a graph's edges are tensors. Tensors flow through the graph, manipulated at each node by an operation. The output tensor of one operation often becomes the input tensor to a subsequent operation. TensorFlow implements a **lazy execution model,** meaning that nodes are only computed when needed, based on the needs of associated nodes.\n",
    "\n",
    "Tensors can be stored in the graph as **constants** or **variables**. As you might guess, constants hold tensors whose values can't change, while variables hold tensors whose values can change. However, what you may not have guessed is that constants and variables are just more operations in the graph. A constant is an operation that always returns the same tensor value. A variable is an operation that will return whichever tensor it has been assigned to.\n",
    "\n",
    "To define a constant use the `tf.constant` operator and pass in its value. For example:\n",
    "\n",
    "```\n",
    "  x = tf.constant([5.2])\n",
    "```\n",
    "\n",
    "Similarly, you can create a variable like this:\n",
    "\n",
    "```\n",
    "  y = tf.Variable([5])\n",
    "```\n",
    "\n",
    "Or you can create the variable first and assign a value later like this (note that you always have to specify a default value):\n",
    "\n",
    "```\n",
    "  y = tf.Variable([0])\n",
    "  y = y.assign([5])\n",
    "```\n",
    "\n",
    "\n",
    "Once you've defined some constants or variables, you can combine them together with other operations like `tf.add`. When you evaluate the `tf.add` operation, it will call your `tf.constant` or `tf.Variable` operations to get their values and then return a new tensor with the sum of those values.\n",
    "\n",
    "An important difference with using `tf.Variable`s is that you must explicitly initialize them by creating a `tf.global_variables_initializer` operation and calling it at the start of your session.\n",
    "\n",
    "Graphs must run within a TensorFlow session. A **session** holds all state for the graph(s) it runs. Furthermore, a session can distribute graph execution across multiple machines (assuming the program is run on some distributed computation framework).\n",
    "\n",
    "So, TensorFlow programming essentially involves:\n",
    "\n",
    "  1. Assembling constants, variables, and operations into a graph.\n",
    "  2. Evaluating those constants, variables and operations within a session.\n"
   ]
  },
  {
   "cell_type": "markdown",
   "metadata": {
    "colab_type": "text",
    "id": "VL0yWNNdgBpG"
   },
   "source": [
    "## Creating a Simple TensorFlow Program\n",
    "\n",
    "Let's put these concepts together into a simple TensorFlow program."
   ]
  },
  {
   "cell_type": "markdown",
   "metadata": {},
   "source": [
    "### Provide import statements\n",
    "\n",
    "As with nearly all Python programs, you'll begin by specifying some `import` statements.\n",
    "The set of `import` statements required to run a TensorFlow program depends, of course, on the features your program will access. At a minimum, you must provide the `import tensorflow` statement in all TensorFlow programs:"
   ]
  },
  {
   "cell_type": "code",
   "execution_count": null,
   "metadata": {
    "cellView": null,
    "colab": {
     "autoexec": {
      "startup": false,
      "wait_interval": 0
     }
    },
    "colab_type": "code",
    "collapsed": true,
    "id": "SDbi6heigEGA"
   },
   "outputs": [],
   "source": [
    "import tensorflow as tf"
   ]
  },
  {
   "cell_type": "markdown",
   "metadata": {
    "colab_type": "text",
    "id": "6RRT4YIA4fQd"
   },
   "source": [
    "**Don't forget to execute the preceding code block (the `import` statements).**\n",
    "\n",
    "Other common import statements include the following:\n",
    "\n",
    "```\n",
    "  import matplotlib.pyplot as plt # Dataset visualization.\n",
    "  import numpy as np              # Low-level numerical Python library.\n",
    "  import pandas as pd             # Higher-level numerical Python library.\n",
    "```"
   ]
  },
  {
   "cell_type": "markdown",
   "metadata": {
    "colab_type": "text",
    "id": "1aNpvufRgbTD"
   },
   "source": [
    "TensorFlow provides a **default graph**. However, we recommend explicitly creating your own `Graph` instead. (In general, you should be using high-level APIs, such as [`Estimator`](https://www.tensorflow.org/api_docs/python/tf/estimator), but if you do write low-level TensorFlow code, it is better to explicitly declare the `Graph` to track state. This is essential when experimenting with `Graph`s in Datalab, where you may wish to work with a different `Graph` in each cell.)"
   ]
  },
  {
   "cell_type": "code",
   "execution_count": null,
   "metadata": {
    "cellView": null,
    "colab": {
     "autoexec": {
      "startup": false,
      "wait_interval": 0
     }
    },
    "colab_type": "code",
    "collapsed": false,
    "id": "Md8ze8e9geMi"
   },
   "outputs": [],
   "source": [
    "# Create a graph.\n",
    "g = tf.Graph()\n",
    "\n",
    "# Establish the graph as the \"default\" graph.\n",
    "with g.as_default():\n",
    "  # Assemble a graph consisting of the following three operations:\n",
    "  #   * Two tf.constant operations to create the operands.\n",
    "  #   * One tf.add operation to add the two operands.\n",
    "  x = tf.constant(8, name=\"x_const\")\n",
    "  y = tf.constant(5, name=\"y_const\")\n",
    "  sum = tf.add(x, y, name=\"x_y_sum\")\n",
    "\n",
    "\n",
    "  # Now create a session.\n",
    "  # The session will run the default graph.\n",
    "  with tf.Session() as sess:\n",
    "    print sum.eval()"
   ]
  },
  {
   "cell_type": "markdown",
   "metadata": {
    "colab_type": "text",
    "id": "7mSz5GVqggZy"
   },
   "source": [
    "### Exercise: Introduce a third operand to the code block\n",
    "\n",
    "More specifically, do the following:\n",
    "\n",
    "  1. Introduce a third scalar integer operand to the preceding code block.\n",
    "  2. Add that third operand to `sum`, which yields a new sum.\n",
    "  3. Re-run the modified code block. (No need to rerun the other code blocks.)\n",
    "     Did the program generate the correct grand total?\n",
    "\n"
   ]
  },
  {
   "cell_type": "markdown",
   "metadata": {
    "colab_type": "text",
    "id": "BrlnLTesgywL"
   },
   "source": [
    "## Further Information\n",
    "\n",
    "To explore basic TensorFlow graphs further, experiment with the following tutorial:\n",
    "\n",
    "  * [Mandelbrot set](https://www.tensorflow.org/tutorials/mandelbrot/index.html#mandelbrot-set)"
   ]
  }
 ],
 "metadata": {
  "colab": {
   "default_view": {},
   "name": "tensorflow_programming_concepts.ipynb",
   "version": "0.3.2",
   "views": {}
  },
  "kernelspec": {
   "display_name": "Python 2",
   "language": "python",
   "name": "python2"
  },
  "language_info": {
   "codemirror_mode": {
    "name": "ipython",
    "version": 2
   },
   "file_extension": ".py",
   "mimetype": "text/x-python",
   "name": "python",
   "nbconvert_exporter": "python",
   "pygments_lexer": "ipython2",
   "version": "2.7.9"
  }
 },
 "nbformat": 4,
 "nbformat_minor": 0
}
