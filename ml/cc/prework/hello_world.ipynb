{
  "cells": [
    {
      "cell_type": "markdown",
      "metadata": {
        "colab_type": "text",
        "id": "cH-YtyZs7Gcg"
      },
      "source": [
        "# Prework: Hello World\n",
        "\n",
        "Here is a \"Hello World\" TensorFlow program.\n"
      ]
    },
    {
      "cell_type": "code",
      "execution_count": 0,
      "metadata": {
        "cellView": "both",
        "colab": {
          "autoexec": {
            "startup": false,
            "wait_interval": 0
          }
        },
        "colab_type": "code",
        "id": "bRuPN7qo7ICp"
      },
      "outputs": [],
      "source": [
        "import tensorflow as tf\n",
        "\n",
        "c = tf.constant('Hello, world!')\n",
        "\n",
        "with tf.Session() as sess:\n",
        "\n",
        "    print sess.run(c)"
      ]
    },
    {
      "cell_type": "markdown",
      "metadata": {
        "colab_type": "text",
        "id": "Bl1nAshab6m5"
      },
      "source": [
        "To run this program:\n",
        "\n",
        "  1. Click the cursor anywhere in the code block (for example, on the word `Hello`).\n",
        "\n",
        "  2. Click `Run` (or on the right-facing arrow icon) in the menu bar at the top of the page.\n",
        "\n",
        "     The program will take a few seconds to run. If all goes well, the program will write the phrase `Hello, world!` just below the code block\n",
        "\n",
        "An alternative to clicking the right-facing arrow (Step 2) is to type Ctrl-Enter.\n",
        "\n",
        "This entire program consists of a single code block; however, most Datalabs consist of multiple code blocks. You might be tempted to run all of the code blocks at once by invoking the `Run-\u003eRun all Cells` menu entry, but doing so will cause problems. Instead, **run the code blocks individually in sequence, from top to bottom.** Running the code blocks out of sequence typically causes errors.   \n",
        "\n",
        "There are a few more keyboard shortcuts that you may find useful:\n",
        " * `Ctrl+m,b`: creates an empty code cell below the cell that's currently selected\n",
        " * `Ctrl+m,i`: interrupts a running cell\n",
        " * `Ctrl+m,h`: shows a list of keyboard shortcuts"
      ]
    }
  ],
  "metadata": {
    "colab": {
      "default_view": {},
      "name": "hello_world.ipynb",
      "version": "0.3.2",
      "views": {}
    }
  },
  "nbformat": 4,
  "nbformat_minor": 0
}
