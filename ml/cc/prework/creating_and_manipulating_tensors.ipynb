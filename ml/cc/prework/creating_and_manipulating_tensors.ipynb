{
 "cells": [
  {
   "cell_type": "markdown",
   "metadata": {
    "colab_type": "text",
    "id": "P0bQXjp499sl"
   },
   "source": [
    "# Creating and Manipulating Tensors"
   ]
  },
  {
   "cell_type": "markdown",
   "metadata": {},
   "source": [
    "**Learning Objectives:**\n",
    "  * Initialize and assign TensorFlow `Variable`s\n",
    "  * Create and manipulate tensors.\n",
    "  * Refresh your memory about addition and multiplication in linear algebra (consult an introduction to matrix [addition](https://en.wikipedia.org/wiki/Matrix_addition) and [multiplication](https://en.wikipedia.org/wiki/Matrix_multiplication) if this topic is new to you).\n",
    "  * Familiarize yourself with basic TensorFlow math and array operations"
   ]
  },
  {
   "cell_type": "code",
   "execution_count": null,
   "metadata": {
    "cellView": null,
    "colab": {
     "autoexec": {
      "startup": false,
      "wait_interval": 0
     }
    },
    "colab_type": "code",
    "collapsed": true,
    "id": "85evKRsOIC5a"
   },
   "outputs": [],
   "source": [
    "import tensorflow as tf"
   ]
  },
  {
   "cell_type": "markdown",
   "metadata": {
    "colab_type": "text",
    "id": "PT1sorfH-DdQ"
   },
   "source": [
    "## Vector Addition\n",
    "\n",
    "You can perform many typical mathematical operations on tensors ([TF API](https://www.tensorflow.org/api_guides/python/math_ops)). The following code\n",
    "cell creates and manipulates vectors (1-D tensors) all having exactly six elements:"
   ]
  },
  {
   "cell_type": "code",
   "execution_count": null,
   "metadata": {
    "cellView": null,
    "colab": {
     "autoexec": {
      "startup": false,
      "wait_interval": 0
     }
    },
    "colab_type": "code",
    "collapsed": false,
    "id": "ng37e6ur-GZo"
   },
   "outputs": [],
   "source": [
    "with tf.Graph().as_default():\n",
    "  # Create a six-element vector (1-D tensor).\n",
    "  primes = tf.constant([2, 3, 5, 7, 11, 13], dtype=tf.int32)\n",
    "\n",
    "  # Create another six-element vector. Each element in the vector will be\n",
    "  # initialized to 1. The first argument is the shape of the tensor (more\n",
    "  # on shapes below).\n",
    "  ones = tf.ones([6], dtype=tf.int32)\n",
    "\n",
    "  # Add the two tensors. The resulting tensor is a six-element vector.\n",
    "  just_beyond_primes = tf.add(primes, ones)\n",
    "\n",
    "  # Create a session to run the default graph.\n",
    "  with tf.Session() as sess:\n",
    "    print just_beyond_primes.eval()"
   ]
  },
  {
   "cell_type": "markdown",
   "metadata": {
    "colab_type": "text",
    "id": "fVvaXzzMGZid"
   },
   "source": [
    "### Tensor Shapes\n",
    "\n",
    "Shapes are used to characterize the size and number of dimensions of a tensor. The shape of a tensor is expressed as `list`, with the `i`th element representing the size along dimension `i`. The length of the list then indicates the rank of the tensor (i.e., the number of dimensions).\n",
    "\n",
    "For more information, see the [TensorFlow documentation](https://www.tensorflow.org/programmers_guide/dims_types).\n",
    "\n",
    "A few basic examples:"
   ]
  },
  {
   "cell_type": "code",
   "execution_count": null,
   "metadata": {
    "cellView": null,
    "colab": {
     "autoexec": {
      "startup": false,
      "wait_interval": 0
     }
    },
    "colab_type": "code",
    "collapsed": false,
    "id": "PWzvJnIAH_cF"
   },
   "outputs": [],
   "source": [
    "with tf.Graph().as_default():\n",
    "  # A scalar is a 0-D tensor.\n",
    "  scalar = tf.zeros([])\n",
    "\n",
    "  # A vector with 3 elements.\n",
    "  vector = tf.zeros([3])\n",
    "\n",
    "  # A matrix with 2 rows and 3 columns.\n",
    "  matrix = tf.zeros([2, 3])\n",
    "\n",
    "  with tf.Session() as sess:\n",
    "    print 'scalar has shape', scalar.get_shape(), 'and value:\\n', scalar.eval()\n",
    "    print 'vector has shape', vector.get_shape(), 'and value:\\n', vector.eval()\n",
    "    print 'matrix has shape', matrix.get_shape(), 'and value:\\n', matrix.eval()\n"
   ]
  },
  {
   "cell_type": "markdown",
   "metadata": {
    "colab_type": "text",
    "id": "musamrLavR5S"
   },
   "source": [
    "### Broadcasting\n",
    "\n",
    "In mathematics, you may only perform element-wise operations (e.g. *add* and *equals*) on tensors of the same shape.  In TensorFlow, however, you may perform operations on tensors that would traditionally have been incompatible. **Broadcasting** -- a concept borrowed from numpy -- enables TensorFlow to automatically enlarge the smaller array in an operation to be the shape compatible for the element-wise operation.\n",
    "\n",
    "When a tensor gets broadcast, its entries along that dimension get conceptually **copied**. (They are not actually copied for performance reasons. Broadcasting was invented as a performance optimization.)\n",
    "\n",
    "For instance, broadcasting enables the following:\n",
    "\n",
    "* If an operand requires a size `[6]` tensor, a size `[1]` or a size `[]` tensor can serve as an operand.\n",
    "* If an operation requires a size `[4, 6]` tensor, any of the following sizes can serve as an operand:\n",
    "  * `[1, 6]`\n",
    "  * `[6]`\n",
    "  * `[]`\n",
    "* If an operation requires a size `[3, 5, 6]` tensor, any of the following sizes can serve as an operand:\n",
    "\n",
    "  * `[1, 5, 6]`\n",
    "  * `[3, 1, 6]`\n",
    "  * `[3, 5, 1]`\n",
    "  * `[1, 1, 1]`\n",
    "  * `[5, 6]`\n",
    "  * `[1, 6]`\n",
    "  * `[6]`\n",
    "  * `[1]`\n",
    "  * `[]`\n",
    "\n",
    "The full ruleset is well described by the easy-to-read [numpy broadcasting documentation](http://docs.scipy.org/doc/numpy-1.10.1/user/basics.broadcasting.html).\n",
    "\n",
    "The following code performs the same tensor addition as before, but using broadcasting:"
   ]
  },
  {
   "cell_type": "code",
   "execution_count": null,
   "metadata": {
    "cellView": null,
    "colab": {
     "autoexec": {
      "startup": false,
      "wait_interval": 0
     }
    },
    "colab_type": "code",
    "collapsed": false,
    "id": "7lys_BeLy2SD"
   },
   "outputs": [],
   "source": [
    "with tf.Graph().as_default():\n",
    "  # Create a six-element vector (1-D tensor).\n",
    "  primes = tf.constant([2, 3, 5, 7, 11, 13], dtype=tf.int32)\n",
    "\n",
    "  # Create a constant scalar with value 1.\n",
    "  ones = tf.constant(1, dtype=tf.int32)\n",
    "\n",
    "  # Add the two tensors. The resulting tensor is a six-element vector.\n",
    "  just_beyond_primes = tf.add(primes, ones)\n",
    "\n",
    "  with tf.Session() as sess:\n",
    "    print just_beyond_primes.eval()"
   ]
  },
  {
   "cell_type": "markdown",
   "metadata": {
    "colab_type": "text",
    "id": "it0P-AV0-Jb4"
   },
   "source": [
    "## Matrix Multiplication\n",
    "\n",
    "In linear algebra, when multiplying two matrices, the number of *columns* of the first matrix must\n",
    "equal the number of *rows* in the second matrix.\n",
    "\n",
    "- It is valid to multiply a `3x4` matrix with a `4x2` matrix. This will result in a `3x2` matrix.\n",
    "- It is invalid to multiply a `4x2` matrix with a `3x4` matrix."
   ]
  },
  {
   "cell_type": "code",
   "execution_count": null,
   "metadata": {
    "cellView": null,
    "colab": {
     "autoexec": {
      "startup": false,
      "wait_interval": 0
     }
    },
    "colab_type": "code",
    "collapsed": false,
    "id": "OVR8QPif-MeS"
   },
   "outputs": [],
   "source": [
    "with tf.Graph().as_default():\n",
    "  # Create a matrix (2-d tensor) with 3 rows and 4 columns.\n",
    "  x = tf.constant([[5, 2, 4, 3], [5, 1, 6, -2], [-1, 3, -1, -2]],\n",
    "                  dtype=tf.int32)\n",
    "\n",
    "  # Create a matrix with 4 rows and 2 columns.\n",
    "  y = tf.constant([[2, 2], [3, 5], [4, 5], [1, 6]], dtype=tf.int32)\n",
    "\n",
    "  # Matrix multiply the two operands. \n",
    "  # The resulting matrix will have 3 rows and 2 columns.\n",
    "  matrix_multiply_result = tf.matmul(x, y)\n",
    "\n",
    "  with tf.Session() as sess:\n",
    "    print matrix_multiply_result.eval()"
   ]
  },
  {
   "cell_type": "markdown",
   "metadata": {
    "colab_type": "text",
    "id": "fziRnmuy-O9x"
   },
   "source": [
    "## Tensor Reshaping\n",
    "\n",
    "With tensor addition and matrix multiplication each imposing significant constraints\n",
    "on operands, TensorFlow programmers must frequently reshape tensors. Use\n",
    "the `tf.reshape` method to reshape a tensor. \n",
    "For example, you could reshape a 20x2 tensor into a 2x20 tensor or a 10x4 tensor.\n",
    "You can also use `tf.reshape` to change the number of dimensions (the \"rank\") of the tensor.\n",
    "For example, you could reshape that 20x2 tensor into a 1-D 40-element tensor or a 3-D 5x2x4 tensor."
   ]
  },
  {
   "cell_type": "code",
   "execution_count": null,
   "metadata": {
    "cellView": null,
    "colab": {
     "autoexec": {
      "startup": false,
      "wait_interval": 0
     }
    },
    "colab_type": "code",
    "collapsed": false,
    "id": "3MpcwWj9-Sqp"
   },
   "outputs": [],
   "source": [
    "with tf.Graph().as_default():\n",
    "  # Create a 4-element vector (1-D tensor).\n",
    "  a = tf.constant([5, 2, 4, 3], dtype=tf.int32)\n",
    "\n",
    "  # Reshape that 4-element vector into a 2x2 matrix.\n",
    "  reshaped_matrix = tf.reshape(a, [2,2])\n",
    "\n",
    "  with tf.Session() as sess:\n",
    "    print reshaped_matrix.eval()"
   ]
  },
  {
   "cell_type": "markdown",
   "metadata": {
    "colab_type": "text",
    "id": "CrpowaWo-VLq"
   },
   "source": [
    "### Exercise #1: Reshape two tensors in order to multiply them.\n",
    "\n",
    "The following two vectors are incompatible for matrix multiplication:\n",
    "\n",
    "  *  `a = tf.constant([5, 3, 2, 7, 1, 4])`\n",
    "  *  `b = tf.constant([4, 6, 3])`\n",
    "\n",
    "Reshape these vectors into compatible operands for matrix multiplication.\n",
    "Then, invoke a matrix multiplication operation on the reshaped tensors."
   ]
  },
  {
   "cell_type": "code",
   "execution_count": null,
   "metadata": {
    "cellView": null,
    "colab": {
     "autoexec": {
      "startup": false,
      "wait_interval": 0
     }
    },
    "colab_type": "code",
    "collapsed": true,
    "id": "p6idvaeK-Zxq"
   },
   "outputs": [],
   "source": [
    "  # Write your code for Task 1 here."
   ]
  },
  {
   "cell_type": "markdown",
   "metadata": {
    "colab_type": "text",
    "id": "x1JYo7iE2oKk"
   },
   "source": [
    "## Variables, Initialization and Assignment\n",
    "\n",
    "So far, all the concepts we've shown were stateless; calling `eval()` always returned the same result. TensorFlow `Variable` objects allow you to keep and change state. When creating a variable, you may use an initial value, or you may use an initializer (like a distribution)."
   ]
  },
  {
   "cell_type": "code",
   "execution_count": null,
   "metadata": {
    "cellView": null,
    "colab": {
     "autoexec": {
      "startup": false,
      "wait_interval": 0
     }
    },
    "colab_type": "code",
    "collapsed": true,
    "id": "6opLnjfD3PdL"
   },
   "outputs": [],
   "source": [
    "g = tf.Graph()\n",
    "with g.as_default():\n",
    "  # Create a variable with the initial value 3\n",
    "  v = tf.Variable([3])\n",
    "\n",
    "  # Create a variable of shape [1], with a random initial value,\n",
    "  # sampled from a normal distribution with mean 1 and standard deviation 0.35\n",
    "  w = tf.Variable(tf.random_normal([1], mean=1.0, stddev=0.35))"
   ]
  },
  {
   "cell_type": "markdown",
   "metadata": {
    "colab_type": "text",
    "id": "qDYRXHTA4PTB"
   },
   "source": [
    "One particularity of TensorFlow is that **variable initialization is not automatic**. For example, the following block will cause an error:"
   ]
  },
  {
   "cell_type": "code",
   "execution_count": null,
   "metadata": {
    "cellView": null,
    "colab": {
     "autoexec": {
      "startup": false,
      "wait_interval": 0
     }
    },
    "colab_type": "code",
    "collapsed": false,
    "id": "d0OX1YRY5PTP"
   },
   "outputs": [],
   "source": [
    "with g.as_default():\n",
    "  with tf.Session() as sess:\n",
    "    try:\n",
    "      v.eval()\n",
    "    except tf.errors.FailedPreconditionError as e:\n",
    "      print \"Caught expected error: \", e"
   ]
  },
  {
   "cell_type": "markdown",
   "metadata": {
    "colab_type": "text",
    "id": "v7_aT7Hr5rnC"
   },
   "source": [
    "The easiest way to initialize a variable is to call `global_variables_initializer`. Note the use of `Session.run()`, which is roughly equivalent to `eval()`."
   ]
  },
  {
   "cell_type": "code",
   "execution_count": null,
   "metadata": {
    "cellView": null,
    "colab": {
     "autoexec": {
      "startup": false,
      "wait_interval": 0
     }
    },
    "colab_type": "code",
    "collapsed": false,
    "id": "z2lvhrxI5zJF"
   },
   "outputs": [],
   "source": [
    "with g.as_default():\n",
    "  with tf.Session() as sess:\n",
    "    initialization = tf.global_variables_initializer()\n",
    "    sess.run(initialization)\n",
    "    # Now, variables can be accessed normally, and they have values assigned to\n",
    "    # them.\n",
    "    print v.eval()\n",
    "    print w.eval()\n"
   ]
  },
  {
   "cell_type": "markdown",
   "metadata": {
    "colab_type": "text",
    "id": "0GkYh7jf6JUd"
   },
   "source": [
    "Once initialized, variables will maintain their value within the same session. However, when starting a new session, you will need to re-initialize them:"
   ]
  },
  {
   "cell_type": "code",
   "execution_count": null,
   "metadata": {
    "cellView": null,
    "colab": {
     "autoexec": {
      "startup": false,
      "wait_interval": 0
     }
    },
    "colab_type": "code",
    "collapsed": false,
    "id": "_E8_lhS06IoV"
   },
   "outputs": [],
   "source": [
    "with g.as_default():\n",
    "  with tf.Session() as sess:\n",
    "    sess.run(tf.global_variables_initializer())\n",
    "    # These three prints will print the same value.\n",
    "    print w.eval()\n",
    "    print w.eval()\n",
    "    print w.eval()"
   ]
  },
  {
   "cell_type": "markdown",
   "metadata": {
    "colab_type": "text",
    "id": "yrZ31hPw66uy"
   },
   "source": [
    "To change the value of a variable, use the `assign` op. Note that, simply creating the `assign` op will not have any effect. Like with initialization, you have to `run` the assignment op before it has the desired effect."
   ]
  },
  {
   "cell_type": "code",
   "execution_count": null,
   "metadata": {
    "cellView": null,
    "colab": {
     "autoexec": {
      "startup": false,
      "wait_interval": 0
     }
    },
    "colab_type": "code",
    "collapsed": false,
    "id": "zD0D1DCR7NBX"
   },
   "outputs": [],
   "source": [
    "with g.as_default():\n",
    "  with tf.Session() as sess:\n",
    "    sess.run(tf.global_variables_initializer())\n",
    "    # This should print the variable's initial value.\n",
    "    print v.eval()\n",
    "\n",
    "    assignment = tf.assign(v, [7])\n",
    "    # The variable has not been changed yet!\n",
    "    print v.eval()\n",
    "\n",
    "    # Execute the assignment op.\n",
    "    sess.run(assignment)\n",
    "    # Now the variable is updated.\n",
    "    print v.eval()"
   ]
  },
  {
   "cell_type": "markdown",
   "metadata": {
    "colab_type": "text",
    "id": "tB78Zq4h78Zr"
   },
   "source": [
    "There are many more topics about variables that we didn't cover here, such as loading and storing. To learn more, see the [TensorFlow docs](https://www.tensorflow.org/programmers_guide/variables)."
   ]
  },
  {
   "cell_type": "markdown",
   "metadata": {
    "colab_type": "text",
    "id": "iFIOcnfz_Oqw"
   },
   "source": [
    "### Exercise #2: Simulate 10 rolls of two dice.\n",
    "\n",
    "Create a dice simulation, ending up with a `10x3` 2-D tensor in which:\n",
    "\n",
    "  * Columns `1` and `2` each hold one throw of one dice.\n",
    "  * Column `3` holds the sum of the two throws on the same row.\n",
    "\n",
    "For example, the first row might hold something like the following column values:\n",
    "\n",
    "  * Column `1` holds `4`\n",
    "  * Column `2` holds `3`\n",
    "  * Column `3` holds `7`\n",
    "\n",
    "You'll need to explore the [TensorFlow documentation](https://www.tensorflow.org/api_guides/python/array_ops) to solve this task."
   ]
  },
  {
   "cell_type": "code",
   "execution_count": null,
   "metadata": {
    "cellView": null,
    "colab": {
     "autoexec": {
      "startup": false,
      "wait_interval": 0
     }
    },
    "colab_type": "code",
    "collapsed": true,
    "id": "ocwT0iXH-nhT"
   },
   "outputs": [],
   "source": [
    "# Write your code for Task 2 here."
   ]
  }
 ],
 "metadata": {
  "colab": {
   "default_view": {},
   "name": "creating_and_manipulating_tensors.ipynb",
   "version": "0.3.2",
   "views": {}
  },
  "kernelspec": {
   "display_name": "Python 2",
   "language": "python",
   "name": "python2"
  },
  "language_info": {
   "codemirror_mode": {
    "name": "ipython",
    "version": 2
   },
   "file_extension": ".py",
   "mimetype": "text/x-python",
   "name": "python",
   "nbconvert_exporter": "python",
   "pygments_lexer": "ipython2",
   "version": "2.7.9"
  }
 },
 "nbformat": 4,
 "nbformat_minor": 0
}
